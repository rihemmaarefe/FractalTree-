{
  "nbformat": 4,
  "nbformat_minor": 0,
  "metadata": {
    "colab": {
      "provenance": [],
      "authorship_tag": "ABX9TyOiIS162GAm/+rrU5pfP8S/",
      "include_colab_link": true
    },
    "kernelspec": {
      "name": "python3",
      "display_name": "Python 3"
    },
    "language_info": {
      "name": "python"
    }
  },
  "cells": [
    {
      "cell_type": "markdown",
      "metadata": {
        "id": "view-in-github",
        "colab_type": "text"
      },
      "source": [
        "<a href=\"https://colab.research.google.com/github/rihemmaarefe/FractalTree-/blob/main/Fractal_tree.ipynb\" target=\"_parent\"><img src=\"https://colab.research.google.com/assets/colab-badge.svg\" alt=\"Open In Colab\"/></a>"
      ]
    },
    {
      "cell_type": "code",
      "execution_count": null,
      "metadata": {
        "id": "k_II-pwItnp-"
      },
      "outputs": [],
      "source": [
        "import turtle\n",
        "\n",
        "# function to draw a fractal tree\n",
        "def draw_tree(branch_len, level):\n",
        "    if level > 0:\n",
        "        # draw the main branch\n",
        "        turtle.forward(branch_len)\n",
        "        # rotate the turtle and draw the left branch\n",
        "        turtle.left(30)\n",
        "        draw_tree(branch_len * 0.7, level - 1)\n",
        "        # rotate the turtle and draw the right branch\n",
        "        turtle.right(60)\n",
        "        draw_tree(branch_len * 0.5, level - 1)\n",
        "        # rotate the turtle and return to the main branch\n",
        "        turtle.left(30)\n",
        "        turtle.backward(branch_len)\n",
        "\n",
        "# get user input for fractal tree parameters\n",
        "branch_len = int(input(\"Enter the branch length: \"))\n",
        "level = int(input(\"Enter the level of recursion: \"))\n",
        "pen_color = input(\"Enter the pen color: \")\n",
        "pen_width = int(input(\"Enter the pen width: \"))\n",
        "\n",
        "# set up the turtle\n",
        "turtle.speed(0)\n",
        "turtle.pencolor(pen_color)\n",
        "turtle.pensize(pen_width)\n",
        "turtle.left(90)\n",
        "turtle.up()\n",
        "turtle.backward(200)\n",
        "turtle.down()\n",
        "\n",
        "# draw the fractal tree\n",
        "draw_tree(branch_len, level)\n",
        "\n",
        "# allow the user to save the image\n",
        "turtle.getcanvas().postscript(file=\"fractal_tree.eps\")\n"
      ]
    },
    {
      "cell_type": "markdown",
      "source": [
        "In this program, we define the draw_tree() function, which takes the length of the branch and the level of recursion as parameters. The function then uses recursion to draw the fractal tree.\n",
        "\n",
        "The program prompts the user to enter the fractal tree parameters, as well as the pen color and width, using the input() function. It then sets up the turtle and calls the draw_tree() function with the user input parameters.\n",
        "\n",
        "Finally, the program allows the user to save the image using the getcanvas().postscript() function.\n",
        "\n",
        "You can customize this code further by adding more options for the user to choose from, such as the angle of rotation, or by adding a graphical user interface (GUI) using a library like Tkinter."
      ],
      "metadata": {
        "id": "3qu51Y8tt9o5"
      }
    }
  ]
}